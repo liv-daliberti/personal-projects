{
 "cells": [
  {
   "cell_type": "code",
   "execution_count": 44,
   "id": "500ab2b6",
   "metadata": {},
   "outputs": [],
   "source": [
    "from nltk.corpus import words\n",
    "import random\n",
    "from termcolor import colored\n",
    "\n",
    "word_list = words.words()\n",
    "## Get all 5 letter words in english\n",
    "five_letter_words = [word for word in word_list if len(word) == 5]"
   ]
  },
  {
   "cell_type": "code",
   "execution_count": 68,
   "id": "dc32b920",
   "metadata": {},
   "outputs": [
    {
     "name": "stdout",
     "output_type": "stream",
     "text": [
      "['a', 'b', 'c', 'd', 'e', 'f', 'g', 'h', 'i', 'j', 'k', 'l', 'm', 'n', 'o', 'p', 'q', 'r', 's', 't', 'u', 'v', 'w', 'x', 'y', 'z']\n",
      "Guess a word: matter\n",
      "Silly one, your guess wasn't 5 letters!\n",
      "Guess a word: clasp\n",
      "\u001b[31mc\u001b[0m\u001b[31ml\u001b[0m\u001b[31ma\u001b[0m\u001b[33ms\u001b[0m\u001b[31mp\u001b[0m\n",
      "['b', 'd', 'e', 'f', 'g', 'h', 'i', 'j', 'k', 'm', 'n', 'o', 'q', 'r', 's', 't', 'u', 'v', 'w', 'x', 'y', 'z']\n",
      "Guess a word: squid\n",
      "\u001b[32ms\u001b[0m\u001b[31mq\u001b[0m\u001b[31mu\u001b[0m\u001b[33mi\u001b[0m\u001b[31md\u001b[0m\n",
      "['b', 'e', 'f', 'g', 'h', 'i', 'j', 'k', 'm', 'n', 'o', 'r', 's', 't', 'v', 'w', 'x', 'y', 'z']\n",
      "Guess a word: still\n",
      "\u001b[32ms\u001b[0m\u001b[33mt\u001b[0m\u001b[32mi\u001b[0m\u001b[31ml\u001b[0m\u001b[31ml\u001b[0m\n",
      "['b', 'e', 'f', 'g', 'h', 'i', 'j', 'k', 'm', 'n', 'o', 'r', 's', 't', 'v', 'w', 'x', 'y', 'z']\n",
      "Guess a word: shine\n",
      "\u001b[32ms\u001b[0m\u001b[31mh\u001b[0m\u001b[32mi\u001b[0m\u001b[31mn\u001b[0m\u001b[32me\u001b[0m\n",
      "['b', 'e', 'f', 'g', 'i', 'j', 'k', 'm', 'o', 'r', 's', 't', 'v', 'w', 'x', 'y', 'z']\n",
      "Guess a word: smite\n",
      "\u001b[32ms\u001b[0m\u001b[31mm\u001b[0m\u001b[32mi\u001b[0m\u001b[32mt\u001b[0m\u001b[32me\u001b[0m\n",
      "['b', 'e', 'f', 'g', 'i', 'j', 'k', 'o', 'r', 's', 't', 'v', 'w', 'x', 'y', 'z']\n",
      "Guess a word: swite\n",
      "\u001b[32ms\u001b[0m\u001b[31mw\u001b[0m\u001b[32mi\u001b[0m\u001b[32mt\u001b[0m\u001b[32me\u001b[0m\n",
      "['b', 'e', 'f', 'g', 'i', 'j', 'k', 'o', 'r', 's', 't', 'v', 'x', 'y', 'z']\n",
      "Guess a word: skite\n",
      "\u001b[32ms\u001b[0m\u001b[32mk\u001b[0m\u001b[32mi\u001b[0m\u001b[32mt\u001b[0m\u001b[32me\u001b[0m\n"
     ]
    }
   ],
   "source": [
    "## Liv's Wordle Game\n",
    "\n",
    "## The computer chooses an initial word\n",
    "initial_word = random.choice(five_letter_words)\n",
    "\n",
    "alphabet_list = ['a', 'b', 'c', 'd', 'e', 'f', 'g', 'h', 'i','j','k',\n",
    "                 'l','m','n','o','p','q','r','s','t','u','v','w','x','y','z']\n",
    "human_word = ''\n",
    "while computer_word != human_word:\n",
    "    \n",
    "    user_guess = 'livsGame'\n",
    "    print(alphabet_list)\n",
    "    \n",
    "    ## User now guesses the 5 letter word\n",
    "    while len(list(user_guess)) != 5 and user_guess not in five_letter_words:\n",
    "        user_guess = input(\"Guess a word: \")\n",
    "        if len(user_guess) != 5:\n",
    "            print(\"Silly one, your guess wasn't 5 letters!\")\n",
    "    \n",
    "\n",
    "    ## determine whether secret guess matches user guess\n",
    "    computer_word, human_word  = list(initial_word), list(user_guess)\n",
    "\n",
    "\n",
    "    ## determine if any of the letters provided by user are in the word\n",
    "    letters_in_word = [letter for letter in human_word if letter in computer_word]\n",
    "    letters_not_in_word = [letter for letter in human_word if letter not in letters_in_word]\n",
    "    \n",
    "    ## determine if said letters are in the right place in the word\n",
    "    #letters_in_right_place = [letter for letter in human_word if letter == ]\n",
    "    #print(letters_in_right_place)\n",
    "    letters_in_right_place = [human_word[letter] for letter in range(len(human_word)) if computer_word[letter] == human_word[letter]]\n",
    "\n",
    "    ## remove letters in alphabet list that are not in the word and user selected in guess\n",
    "    alphabet_list = [letter for letter in alphabet_list if letter not in letters_not_in_word]\n",
    "    \n",
    "    return_result = []\n",
    "    for letter in user_guess:\n",
    "        if letter in letters_in_right_place:\n",
    "            return_result.append(colored(letter, 'green'))\n",
    "        elif letter in letters_in_word:\n",
    "            return_result.append(colored(letter, 'yellow'))\n",
    "        else:\n",
    "            return_result.append(colored(letter, 'red'))\n",
    "    print(''.join(return_result))\n",
    "    "
   ]
  }
 ],
 "metadata": {
  "kernelspec": {
   "display_name": "Pytorch-Liv-New",
   "language": "python",
   "name": "example"
  },
  "language_info": {
   "codemirror_mode": {
    "name": "ipython",
    "version": 3
   },
   "file_extension": ".py",
   "mimetype": "text/x-python",
   "name": "python",
   "nbconvert_exporter": "python",
   "pygments_lexer": "ipython3",
   "version": "3.8.12"
  }
 },
 "nbformat": 4,
 "nbformat_minor": 5
}
